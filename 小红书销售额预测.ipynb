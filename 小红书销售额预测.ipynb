{
 "cells": [
  {
   "cell_type": "markdown",
   "metadata": {},
   "source": []
  },
  {
   "cell_type": "code",
   "execution_count": null,
   "metadata": {},
   "outputs": [],
   "source": []
  },
  {
   "cell_type": "code",
   "execution_count": 1,
   "metadata": {},
   "outputs": [],
   "source": [
    "#导入数据和第三方库\n",
    "import pandas as pd\n",
    "import numpy as np\n",
    "#散点图\n",
    "import seaborn as sns\n",
    "#可视化\n",
    "import matplotlib.pyplot as plt\n",
    "%matplotlib inline\n",
    "#建模第三方库\n",
    "#经典线性模型\n",
    "from statsmodels.formula.api import ols\n",
    "from sklearn.linear_model import LinearRegression\n",
    "\n"
   ]
  },
  {
   "cell_type": "code",
   "execution_count": 2,
   "metadata": {},
   "outputs": [],
   "source": [
    "data=pd.read_csv('C:/Users/GaoYi/jupyter-notebook/week2.redbook.csv')"
   ]
  },
  {
   "cell_type": "code",
   "execution_count": 3,
   "metadata": {},
   "outputs": [
    {
     "data": {
      "text/html": [
       "<div>\n",
       "<style scoped>\n",
       "    .dataframe tbody tr th:only-of-type {\n",
       "        vertical-align: middle;\n",
       "    }\n",
       "\n",
       "    .dataframe tbody tr th {\n",
       "        vertical-align: top;\n",
       "    }\n",
       "\n",
       "    .dataframe thead th {\n",
       "        text-align: right;\n",
       "    }\n",
       "</style>\n",
       "<table border=\"1\" class=\"dataframe\">\n",
       "  <thead>\n",
       "    <tr style=\"text-align: right;\">\n",
       "      <th></th>\n",
       "      <th>revenue</th>\n",
       "      <th>gender</th>\n",
       "      <th>age</th>\n",
       "      <th>engaged_last_30</th>\n",
       "      <th>lifecycle</th>\n",
       "      <th>days_since_last_order</th>\n",
       "      <th>previous_order_amount</th>\n",
       "      <th>3rd_party_stores</th>\n",
       "    </tr>\n",
       "  </thead>\n",
       "  <tbody>\n",
       "    <tr>\n",
       "      <th>0</th>\n",
       "      <td>72.98</td>\n",
       "      <td>1.0</td>\n",
       "      <td>59.0</td>\n",
       "      <td>0.0</td>\n",
       "      <td>B</td>\n",
       "      <td>4.26</td>\n",
       "      <td>2343.870</td>\n",
       "      <td>0</td>\n",
       "    </tr>\n",
       "    <tr>\n",
       "      <th>1</th>\n",
       "      <td>200.99</td>\n",
       "      <td>1.0</td>\n",
       "      <td>51.0</td>\n",
       "      <td>0.0</td>\n",
       "      <td>A</td>\n",
       "      <td>0.94</td>\n",
       "      <td>8539.872</td>\n",
       "      <td>0</td>\n",
       "    </tr>\n",
       "    <tr>\n",
       "      <th>2</th>\n",
       "      <td>69.98</td>\n",
       "      <td>1.0</td>\n",
       "      <td>79.0</td>\n",
       "      <td>0.0</td>\n",
       "      <td>C</td>\n",
       "      <td>4.29</td>\n",
       "      <td>1687.646</td>\n",
       "      <td>1</td>\n",
       "    </tr>\n",
       "    <tr>\n",
       "      <th>3</th>\n",
       "      <td>649.99</td>\n",
       "      <td>NaN</td>\n",
       "      <td>NaN</td>\n",
       "      <td>NaN</td>\n",
       "      <td>C</td>\n",
       "      <td>14.90</td>\n",
       "      <td>3498.846</td>\n",
       "      <td>0</td>\n",
       "    </tr>\n",
       "    <tr>\n",
       "      <th>4</th>\n",
       "      <td>83.59</td>\n",
       "      <td>NaN</td>\n",
       "      <td>NaN</td>\n",
       "      <td>NaN</td>\n",
       "      <td>C</td>\n",
       "      <td>21.13</td>\n",
       "      <td>3968.490</td>\n",
       "      <td>4</td>\n",
       "    </tr>\n",
       "    <tr>\n",
       "      <th>...</th>\n",
       "      <td>...</td>\n",
       "      <td>...</td>\n",
       "      <td>...</td>\n",
       "      <td>...</td>\n",
       "      <td>...</td>\n",
       "      <td>...</td>\n",
       "      <td>...</td>\n",
       "      <td>...</td>\n",
       "    </tr>\n",
       "    <tr>\n",
       "      <th>29447</th>\n",
       "      <td>43.19</td>\n",
       "      <td>NaN</td>\n",
       "      <td>NaN</td>\n",
       "      <td>NaN</td>\n",
       "      <td>C</td>\n",
       "      <td>0.94</td>\n",
       "      <td>545.180</td>\n",
       "      <td>1</td>\n",
       "    </tr>\n",
       "    <tr>\n",
       "      <th>29448</th>\n",
       "      <td>62.97</td>\n",
       "      <td>1.0</td>\n",
       "      <td>53.0</td>\n",
       "      <td>0.0</td>\n",
       "      <td>C</td>\n",
       "      <td>3.45</td>\n",
       "      <td>3738.912</td>\n",
       "      <td>1</td>\n",
       "    </tr>\n",
       "    <tr>\n",
       "      <th>29449</th>\n",
       "      <td>87.26</td>\n",
       "      <td>NaN</td>\n",
       "      <td>NaN</td>\n",
       "      <td>NaN</td>\n",
       "      <td>C</td>\n",
       "      <td>10.42</td>\n",
       "      <td>1279.530</td>\n",
       "      <td>0</td>\n",
       "    </tr>\n",
       "    <tr>\n",
       "      <th>29450</th>\n",
       "      <td>19.99</td>\n",
       "      <td>1.0</td>\n",
       "      <td>69.0</td>\n",
       "      <td>0.0</td>\n",
       "      <td>C</td>\n",
       "      <td>16.87</td>\n",
       "      <td>669.580</td>\n",
       "      <td>3</td>\n",
       "    </tr>\n",
       "    <tr>\n",
       "      <th>29451</th>\n",
       "      <td>741.93</td>\n",
       "      <td>NaN</td>\n",
       "      <td>NaN</td>\n",
       "      <td>NaN</td>\n",
       "      <td>C</td>\n",
       "      <td>7.13</td>\n",
       "      <td>2102.950</td>\n",
       "      <td>0</td>\n",
       "    </tr>\n",
       "  </tbody>\n",
       "</table>\n",
       "<p>29452 rows × 8 columns</p>\n",
       "</div>"
      ],
      "text/plain": [
       "       revenue  gender   age  engaged_last_30 lifecycle  \\\n",
       "0        72.98     1.0  59.0              0.0         B   \n",
       "1       200.99     1.0  51.0              0.0         A   \n",
       "2        69.98     1.0  79.0              0.0         C   \n",
       "3       649.99     NaN   NaN              NaN         C   \n",
       "4        83.59     NaN   NaN              NaN         C   \n",
       "...        ...     ...   ...              ...       ...   \n",
       "29447    43.19     NaN   NaN              NaN         C   \n",
       "29448    62.97     1.0  53.0              0.0         C   \n",
       "29449    87.26     NaN   NaN              NaN         C   \n",
       "29450    19.99     1.0  69.0              0.0         C   \n",
       "29451   741.93     NaN   NaN              NaN         C   \n",
       "\n",
       "        days_since_last_order   previous_order_amount  3rd_party_stores  \n",
       "0                         4.26               2343.870                 0  \n",
       "1                         0.94               8539.872                 0  \n",
       "2                         4.29               1687.646                 1  \n",
       "3                        14.90               3498.846                 0  \n",
       "4                        21.13               3968.490                 4  \n",
       "...                        ...                    ...               ...  \n",
       "29447                     0.94                545.180                 1  \n",
       "29448                     3.45               3738.912                 1  \n",
       "29449                    10.42               1279.530                 0  \n",
       "29450                    16.87                669.580                 3  \n",
       "29451                     7.13               2102.950                 0  \n",
       "\n",
       "[29452 rows x 8 columns]"
      ]
     },
     "execution_count": 3,
     "metadata": {},
     "output_type": "execute_result"
    }
   ],
   "source": [
    "data"
   ]
  },
  {
   "cell_type": "code",
   "execution_count": 5,
   "metadata": {
    "scrolled": true
   },
   "outputs": [
    {
     "data": {
      "text/plain": [
       "revenue                        0\n",
       "gender                     11729\n",
       "age                        12736\n",
       "engaged_last_30            11729\n",
       "lifecycle                      0\n",
       " days_since_last_order         0\n",
       "previous_order_amount          0\n",
       "3rd_party_stores               0\n",
       "dtype: int64"
      ]
     },
     "execution_count": 5,
     "metadata": {},
     "output_type": "execute_result"
    }
   ],
   "source": [
    "#统计数据表格缺失值的个数\n",
    "data.isnull().sum()"
   ]
  },
  {
   "cell_type": "code",
   "execution_count": 6,
   "metadata": {},
   "outputs": [
    {
     "data": {
      "text/html": [
       "<div>\n",
       "<style scoped>\n",
       "    .dataframe tbody tr th:only-of-type {\n",
       "        vertical-align: middle;\n",
       "    }\n",
       "\n",
       "    .dataframe tbody tr th {\n",
       "        vertical-align: top;\n",
       "    }\n",
       "\n",
       "    .dataframe thead th {\n",
       "        text-align: right;\n",
       "    }\n",
       "</style>\n",
       "<table border=\"1\" class=\"dataframe\">\n",
       "  <thead>\n",
       "    <tr style=\"text-align: right;\">\n",
       "      <th></th>\n",
       "      <th>revenue</th>\n",
       "      <th>gender</th>\n",
       "      <th>age</th>\n",
       "      <th>engaged_last_30</th>\n",
       "      <th>days_since_last_order</th>\n",
       "      <th>previous_order_amount</th>\n",
       "      <th>3rd_party_stores</th>\n",
       "    </tr>\n",
       "  </thead>\n",
       "  <tbody>\n",
       "    <tr>\n",
       "      <th>count</th>\n",
       "      <td>29452.000000</td>\n",
       "      <td>17723.000000</td>\n",
       "      <td>16716.000000</td>\n",
       "      <td>17723.000000</td>\n",
       "      <td>29452.000000</td>\n",
       "      <td>29452.000000</td>\n",
       "      <td>29452.000000</td>\n",
       "    </tr>\n",
       "    <tr>\n",
       "      <th>mean</th>\n",
       "      <td>398.288037</td>\n",
       "      <td>0.950742</td>\n",
       "      <td>60.397404</td>\n",
       "      <td>0.073069</td>\n",
       "      <td>7.711348</td>\n",
       "      <td>2348.904830</td>\n",
       "      <td>2.286059</td>\n",
       "    </tr>\n",
       "    <tr>\n",
       "      <th>std</th>\n",
       "      <td>960.251728</td>\n",
       "      <td>0.216412</td>\n",
       "      <td>14.823026</td>\n",
       "      <td>0.260257</td>\n",
       "      <td>6.489289</td>\n",
       "      <td>2379.774213</td>\n",
       "      <td>3.538219</td>\n",
       "    </tr>\n",
       "    <tr>\n",
       "      <th>min</th>\n",
       "      <td>0.020000</td>\n",
       "      <td>0.000000</td>\n",
       "      <td>18.000000</td>\n",
       "      <td>0.000000</td>\n",
       "      <td>0.130000</td>\n",
       "      <td>0.000000</td>\n",
       "      <td>0.000000</td>\n",
       "    </tr>\n",
       "    <tr>\n",
       "      <th>25%</th>\n",
       "      <td>74.970000</td>\n",
       "      <td>1.000000</td>\n",
       "      <td>50.000000</td>\n",
       "      <td>0.000000</td>\n",
       "      <td>2.190000</td>\n",
       "      <td>773.506250</td>\n",
       "      <td>0.000000</td>\n",
       "    </tr>\n",
       "    <tr>\n",
       "      <th>50%</th>\n",
       "      <td>175.980000</td>\n",
       "      <td>1.000000</td>\n",
       "      <td>60.000000</td>\n",
       "      <td>0.000000</td>\n",
       "      <td>5.970000</td>\n",
       "      <td>1655.980000</td>\n",
       "      <td>0.000000</td>\n",
       "    </tr>\n",
       "    <tr>\n",
       "      <th>75%</th>\n",
       "      <td>499.990000</td>\n",
       "      <td>1.000000</td>\n",
       "      <td>70.000000</td>\n",
       "      <td>0.000000</td>\n",
       "      <td>11.740000</td>\n",
       "      <td>3096.766500</td>\n",
       "      <td>3.000000</td>\n",
       "    </tr>\n",
       "    <tr>\n",
       "      <th>max</th>\n",
       "      <td>103466.100000</td>\n",
       "      <td>1.000000</td>\n",
       "      <td>99.000000</td>\n",
       "      <td>1.000000</td>\n",
       "      <td>23.710000</td>\n",
       "      <td>11597.900000</td>\n",
       "      <td>10.000000</td>\n",
       "    </tr>\n",
       "  </tbody>\n",
       "</table>\n",
       "</div>"
      ],
      "text/plain": [
       "             revenue        gender           age  engaged_last_30  \\\n",
       "count   29452.000000  17723.000000  16716.000000     17723.000000   \n",
       "mean      398.288037      0.950742     60.397404         0.073069   \n",
       "std       960.251728      0.216412     14.823026         0.260257   \n",
       "min         0.020000      0.000000     18.000000         0.000000   \n",
       "25%        74.970000      1.000000     50.000000         0.000000   \n",
       "50%       175.980000      1.000000     60.000000         0.000000   \n",
       "75%       499.990000      1.000000     70.000000         0.000000   \n",
       "max    103466.100000      1.000000     99.000000         1.000000   \n",
       "\n",
       "        days_since_last_order   previous_order_amount  3rd_party_stores  \n",
       "count             29452.000000           29452.000000      29452.000000  \n",
       "mean                  7.711348            2348.904830          2.286059  \n",
       "std                   6.489289            2379.774213          3.538219  \n",
       "min                   0.130000               0.000000          0.000000  \n",
       "25%                   2.190000             773.506250          0.000000  \n",
       "50%                   5.970000            1655.980000          0.000000  \n",
       "75%                  11.740000            3096.766500          3.000000  \n",
       "max                  23.710000           11597.900000         10.000000  "
      ]
     },
     "execution_count": 6,
     "metadata": {},
     "output_type": "execute_result"
    }
   ],
   "source": [
    "#数据表格的统计分析\n",
    "data.describe()"
   ]
  },
  {
   "cell_type": "code",
   "execution_count": 8,
   "metadata": {},
   "outputs": [
    {
     "data": {
      "text/html": [
       "<div>\n",
       "<style scoped>\n",
       "    .dataframe tbody tr th:only-of-type {\n",
       "        vertical-align: middle;\n",
       "    }\n",
       "\n",
       "    .dataframe tbody tr th {\n",
       "        vertical-align: top;\n",
       "    }\n",
       "\n",
       "    .dataframe thead th {\n",
       "        text-align: right;\n",
       "    }\n",
       "</style>\n",
       "<table border=\"1\" class=\"dataframe\">\n",
       "  <thead>\n",
       "    <tr style=\"text-align: right;\">\n",
       "      <th></th>\n",
       "      <th>revenue</th>\n",
       "      <th>age</th>\n",
       "      <th>days_since_last_order</th>\n",
       "      <th>previous_order_amount</th>\n",
       "      <th>3rd_party_stores</th>\n",
       "      <th>gender_0.0</th>\n",
       "      <th>gender_1.0</th>\n",
       "      <th>gender_Unknown</th>\n",
       "      <th>engaged_last_30_0.0</th>\n",
       "      <th>engaged_last_30_1.0</th>\n",
       "      <th>engaged_last_30_unknown</th>\n",
       "      <th>lifecycle_A</th>\n",
       "      <th>lifecycle_B</th>\n",
       "      <th>lifecycle_C</th>\n",
       "    </tr>\n",
       "  </thead>\n",
       "  <tbody>\n",
       "    <tr>\n",
       "      <th>0</th>\n",
       "      <td>72.98</td>\n",
       "      <td>59.0</td>\n",
       "      <td>4.26</td>\n",
       "      <td>2343.870</td>\n",
       "      <td>0</td>\n",
       "      <td>0</td>\n",
       "      <td>1</td>\n",
       "      <td>0</td>\n",
       "      <td>1</td>\n",
       "      <td>0</td>\n",
       "      <td>0</td>\n",
       "      <td>0</td>\n",
       "      <td>1</td>\n",
       "      <td>0</td>\n",
       "    </tr>\n",
       "    <tr>\n",
       "      <th>1</th>\n",
       "      <td>200.99</td>\n",
       "      <td>51.0</td>\n",
       "      <td>0.94</td>\n",
       "      <td>8539.872</td>\n",
       "      <td>0</td>\n",
       "      <td>0</td>\n",
       "      <td>1</td>\n",
       "      <td>0</td>\n",
       "      <td>1</td>\n",
       "      <td>0</td>\n",
       "      <td>0</td>\n",
       "      <td>1</td>\n",
       "      <td>0</td>\n",
       "      <td>0</td>\n",
       "    </tr>\n",
       "    <tr>\n",
       "      <th>2</th>\n",
       "      <td>69.98</td>\n",
       "      <td>79.0</td>\n",
       "      <td>4.29</td>\n",
       "      <td>1687.646</td>\n",
       "      <td>1</td>\n",
       "      <td>0</td>\n",
       "      <td>1</td>\n",
       "      <td>0</td>\n",
       "      <td>1</td>\n",
       "      <td>0</td>\n",
       "      <td>0</td>\n",
       "      <td>0</td>\n",
       "      <td>0</td>\n",
       "      <td>1</td>\n",
       "    </tr>\n",
       "    <tr>\n",
       "      <th>3</th>\n",
       "      <td>649.99</td>\n",
       "      <td>60.0</td>\n",
       "      <td>14.90</td>\n",
       "      <td>3498.846</td>\n",
       "      <td>0</td>\n",
       "      <td>0</td>\n",
       "      <td>0</td>\n",
       "      <td>1</td>\n",
       "      <td>0</td>\n",
       "      <td>0</td>\n",
       "      <td>1</td>\n",
       "      <td>0</td>\n",
       "      <td>0</td>\n",
       "      <td>1</td>\n",
       "    </tr>\n",
       "    <tr>\n",
       "      <th>4</th>\n",
       "      <td>83.59</td>\n",
       "      <td>60.0</td>\n",
       "      <td>21.13</td>\n",
       "      <td>3968.490</td>\n",
       "      <td>4</td>\n",
       "      <td>0</td>\n",
       "      <td>0</td>\n",
       "      <td>1</td>\n",
       "      <td>0</td>\n",
       "      <td>0</td>\n",
       "      <td>1</td>\n",
       "      <td>0</td>\n",
       "      <td>0</td>\n",
       "      <td>1</td>\n",
       "    </tr>\n",
       "    <tr>\n",
       "      <th>...</th>\n",
       "      <td>...</td>\n",
       "      <td>...</td>\n",
       "      <td>...</td>\n",
       "      <td>...</td>\n",
       "      <td>...</td>\n",
       "      <td>...</td>\n",
       "      <td>...</td>\n",
       "      <td>...</td>\n",
       "      <td>...</td>\n",
       "      <td>...</td>\n",
       "      <td>...</td>\n",
       "      <td>...</td>\n",
       "      <td>...</td>\n",
       "      <td>...</td>\n",
       "    </tr>\n",
       "    <tr>\n",
       "      <th>29447</th>\n",
       "      <td>43.19</td>\n",
       "      <td>60.0</td>\n",
       "      <td>0.94</td>\n",
       "      <td>545.180</td>\n",
       "      <td>1</td>\n",
       "      <td>0</td>\n",
       "      <td>0</td>\n",
       "      <td>1</td>\n",
       "      <td>0</td>\n",
       "      <td>0</td>\n",
       "      <td>1</td>\n",
       "      <td>0</td>\n",
       "      <td>0</td>\n",
       "      <td>1</td>\n",
       "    </tr>\n",
       "    <tr>\n",
       "      <th>29448</th>\n",
       "      <td>62.97</td>\n",
       "      <td>53.0</td>\n",
       "      <td>3.45</td>\n",
       "      <td>3738.912</td>\n",
       "      <td>1</td>\n",
       "      <td>0</td>\n",
       "      <td>1</td>\n",
       "      <td>0</td>\n",
       "      <td>1</td>\n",
       "      <td>0</td>\n",
       "      <td>0</td>\n",
       "      <td>0</td>\n",
       "      <td>0</td>\n",
       "      <td>1</td>\n",
       "    </tr>\n",
       "    <tr>\n",
       "      <th>29449</th>\n",
       "      <td>87.26</td>\n",
       "      <td>60.0</td>\n",
       "      <td>10.42</td>\n",
       "      <td>1279.530</td>\n",
       "      <td>0</td>\n",
       "      <td>0</td>\n",
       "      <td>0</td>\n",
       "      <td>1</td>\n",
       "      <td>0</td>\n",
       "      <td>0</td>\n",
       "      <td>1</td>\n",
       "      <td>0</td>\n",
       "      <td>0</td>\n",
       "      <td>1</td>\n",
       "    </tr>\n",
       "    <tr>\n",
       "      <th>29450</th>\n",
       "      <td>19.99</td>\n",
       "      <td>69.0</td>\n",
       "      <td>16.87</td>\n",
       "      <td>669.580</td>\n",
       "      <td>3</td>\n",
       "      <td>0</td>\n",
       "      <td>1</td>\n",
       "      <td>0</td>\n",
       "      <td>1</td>\n",
       "      <td>0</td>\n",
       "      <td>0</td>\n",
       "      <td>0</td>\n",
       "      <td>0</td>\n",
       "      <td>1</td>\n",
       "    </tr>\n",
       "    <tr>\n",
       "      <th>29451</th>\n",
       "      <td>741.93</td>\n",
       "      <td>60.0</td>\n",
       "      <td>7.13</td>\n",
       "      <td>2102.950</td>\n",
       "      <td>0</td>\n",
       "      <td>0</td>\n",
       "      <td>0</td>\n",
       "      <td>1</td>\n",
       "      <td>0</td>\n",
       "      <td>0</td>\n",
       "      <td>1</td>\n",
       "      <td>0</td>\n",
       "      <td>0</td>\n",
       "      <td>1</td>\n",
       "    </tr>\n",
       "  </tbody>\n",
       "</table>\n",
       "<p>29452 rows × 14 columns</p>\n",
       "</div>"
      ],
      "text/plain": [
       "       revenue   age   days_since_last_order   previous_order_amount  \\\n",
       "0        72.98  59.0                     4.26               2343.870   \n",
       "1       200.99  51.0                     0.94               8539.872   \n",
       "2        69.98  79.0                     4.29               1687.646   \n",
       "3       649.99  60.0                    14.90               3498.846   \n",
       "4        83.59  60.0                    21.13               3968.490   \n",
       "...        ...   ...                      ...                    ...   \n",
       "29447    43.19  60.0                     0.94                545.180   \n",
       "29448    62.97  53.0                     3.45               3738.912   \n",
       "29449    87.26  60.0                    10.42               1279.530   \n",
       "29450    19.99  69.0                    16.87                669.580   \n",
       "29451   741.93  60.0                     7.13               2102.950   \n",
       "\n",
       "       3rd_party_stores  gender_0.0  gender_1.0  gender_Unknown  \\\n",
       "0                     0           0           1               0   \n",
       "1                     0           0           1               0   \n",
       "2                     1           0           1               0   \n",
       "3                     0           0           0               1   \n",
       "4                     4           0           0               1   \n",
       "...                 ...         ...         ...             ...   \n",
       "29447                 1           0           0               1   \n",
       "29448                 1           0           1               0   \n",
       "29449                 0           0           0               1   \n",
       "29450                 3           0           1               0   \n",
       "29451                 0           0           0               1   \n",
       "\n",
       "       engaged_last_30_0.0  engaged_last_30_1.0  engaged_last_30_unknown  \\\n",
       "0                        1                    0                        0   \n",
       "1                        1                    0                        0   \n",
       "2                        1                    0                        0   \n",
       "3                        0                    0                        1   \n",
       "4                        0                    0                        1   \n",
       "...                    ...                  ...                      ...   \n",
       "29447                    0                    0                        1   \n",
       "29448                    1                    0                        0   \n",
       "29449                    0                    0                        1   \n",
       "29450                    1                    0                        0   \n",
       "29451                    0                    0                        1   \n",
       "\n",
       "       lifecycle_A  lifecycle_B  lifecycle_C  \n",
       "0                0            1            0  \n",
       "1                1            0            0  \n",
       "2                0            0            1  \n",
       "3                0            0            1  \n",
       "4                0            0            1  \n",
       "...            ...          ...          ...  \n",
       "29447            0            0            1  \n",
       "29448            0            0            1  \n",
       "29449            0            0            1  \n",
       "29450            0            0            1  \n",
       "29451            0            0            1  \n",
       "\n",
       "[29452 rows x 14 columns]"
      ]
     },
     "execution_count": 8,
     "metadata": {},
     "output_type": "execute_result"
    }
   ],
   "source": [
    "#将age的缺失值用中位数进行填充\n",
    "data['age']=data['age'].fillna(data['age'].median())\n",
    "#将gender的缺失值填充成哑变量，类似于空值\n",
    "data['gender']=data['gender'].fillna('Unknown')\n",
    "data['engaged_last_30']=data['engaged_last_30'].fillna('unknown')\n",
    "#生成哑变量，进行数据转化\n",
    "red1=pd.get_dummies(data)\n",
    "red1"
   ]
  },
  {
   "cell_type": "code",
   "execution_count": 9,
   "metadata": {
    "scrolled": true
   },
   "outputs": [
    {
     "name": "stdout",
     "output_type": "stream",
     "text": [
      "<class 'pandas.core.frame.DataFrame'>\n",
      "RangeIndex: 29452 entries, 0 to 29451\n",
      "Data columns (total 14 columns):\n",
      " #   Column                   Non-Null Count  Dtype  \n",
      "---  ------                   --------------  -----  \n",
      " 0   revenue                  29452 non-null  float64\n",
      " 1   age                      29452 non-null  float64\n",
      " 2    days_since_last_order   29452 non-null  float64\n",
      " 3   previous_order_amount    29452 non-null  float64\n",
      " 4   3rd_party_stores         29452 non-null  int64  \n",
      " 5   gender_0.0               29452 non-null  uint8  \n",
      " 6   gender_1.0               29452 non-null  uint8  \n",
      " 7   gender_Unknown           29452 non-null  uint8  \n",
      " 8   engaged_last_30_0.0      29452 non-null  uint8  \n",
      " 9   engaged_last_30_1.0      29452 non-null  uint8  \n",
      " 10  engaged_last_30_unknown  29452 non-null  uint8  \n",
      " 11  lifecycle_A              29452 non-null  uint8  \n",
      " 12  lifecycle_B              29452 non-null  uint8  \n",
      " 13  lifecycle_C              29452 non-null  uint8  \n",
      "dtypes: float64(4), int64(1), uint8(9)\n",
      "memory usage: 1.4 MB\n"
     ]
    }
   ],
   "source": [
    "red1.info()"
   ]
  },
  {
   "cell_type": "code",
   "execution_count": 16,
   "metadata": {
    "scrolled": true
   },
   "outputs": [
    {
     "data": {
      "text/plain": [
       "<AxesSubplot:xlabel='age', ylabel='revenue'>"
      ]
     },
     "execution_count": 16,
     "metadata": {},
     "output_type": "execute_result"
    },
    {
     "data": {
      "image/png": "[encoded data removed]",
      "text/plain": [
       "<Figure size 432x288 with 1 Axes>"
      ]
     },
     "metadata": {
      "needs_background": "light"
     },
     "output_type": "display_data"
    }
   ],
   "source": [
    "# 查看金额和年龄的关系（可视化）\n",
    "sns.lineplot(x='age',y='revenue',data=data)\n"
   ]
  },
  {
   "cell_type": "code",
   "execution_count": 17,
   "metadata": {
    "scrolled": true
   },
   "outputs": [
    {
     "name": "stderr",
     "output_type": "stream",
     "text": [
      "C:\\Users\\GaoYi\\anaconda\\envs\\xiaohongshu\\lib\\site-packages\\seaborn\\_decorators.py:36: FutureWarning: Pass the following variables as keyword args: x, y, data. From version 0.12, the only valid positional argument will be `data`, and passing other arguments without an explicit keyword will result in an error or misinterpretation.\n",
      "  warnings.warn(\n"
     ]
    },
    {
     "data": {
      "text/plain": [
       "<AxesSubplot:xlabel='previous_order_amount', ylabel='revenue'>"
      ]
     },
     "execution_count": 17,
     "metadata": {},
     "output_type": "execute_result"
    },
    {
     "data": {
      "image/png": "[encoded data removed]",
      "text/plain": [
       "<Figure size 432x288 with 1 Axes>"
      ]
     },
     "metadata": {
      "needs_background": "light"
     },
     "output_type": "display_data"
    }
   ],
   "source": [
    "#线性关系可视化\n",
    "sns.regplot('previous_order_amount','revenue',data)"
   ]
  },
  {
   "cell_type": "code",
   "execution_count": 18,
   "metadata": {},
   "outputs": [
    {
     "name": "stderr",
     "output_type": "stream",
     "text": [
      "C:\\Users\\GaoYi\\anaconda\\envs\\xiaohongshu\\lib\\site-packages\\seaborn\\_decorators.py:36: FutureWarning: Pass the following variables as keyword args: x, y, data. From version 0.12, the only valid positional argument will be `data`, and passing other arguments without an explicit keyword will result in an error or misinterpretation.\n",
      "  warnings.warn(\n"
     ]
    },
    {
     "data": {
      "text/plain": [
       "<AxesSubplot:xlabel='age', ylabel='revenue'>"
      ]
     },
     "execution_count": 18,
     "metadata": {},
     "output_type": "execute_result"
    },
    {
     "data": {
      "image/png": "[encoded data removed]",
      "text/plain": [
       "<Figure size 432x288 with 1 Axes>"
      ]
     },
     "metadata": {
      "needs_background": "light"
     },
     "output_type": "display_data"
    }
   ],
   "source": [
    "#年龄与销售额的线性关系\n",
    "sns.regplot('age','revenue',data)"
   ]
  },
  {
   "cell_type": "code",
   "execution_count": 19,
   "metadata": {},
   "outputs": [
    {
     "data": {
      "text/html": [
       "<div>\n",
       "<style scoped>\n",
       "    .dataframe tbody tr th:only-of-type {\n",
       "        vertical-align: middle;\n",
       "    }\n",
       "\n",
       "    .dataframe tbody tr th {\n",
       "        vertical-align: top;\n",
       "    }\n",
       "\n",
       "    .dataframe thead th {\n",
       "        text-align: right;\n",
       "    }\n",
       "</style>\n",
       "<table border=\"1\" class=\"dataframe\">\n",
       "  <thead>\n",
       "    <tr style=\"text-align: right;\">\n",
       "      <th></th>\n",
       "      <th>count</th>\n",
       "      <th>mean</th>\n",
       "      <th>std</th>\n",
       "      <th>min</th>\n",
       "      <th>25%</th>\n",
       "      <th>50%</th>\n",
       "      <th>75%</th>\n",
       "      <th>max</th>\n",
       "    </tr>\n",
       "    <tr>\n",
       "      <th>revenue_level</th>\n",
       "      <th></th>\n",
       "      <th></th>\n",
       "      <th></th>\n",
       "      <th></th>\n",
       "      <th></th>\n",
       "      <th></th>\n",
       "      <th></th>\n",
       "      <th></th>\n",
       "    </tr>\n",
       "  </thead>\n",
       "  <tbody>\n",
       "    <tr>\n",
       "      <th>[0, 100)</th>\n",
       "      <td>9970.0</td>\n",
       "      <td>56.737771</td>\n",
       "      <td>24.530894</td>\n",
       "      <td>0.02</td>\n",
       "      <td>35.9900</td>\n",
       "      <td>57.980</td>\n",
       "      <td>74.9900</td>\n",
       "      <td>99.99</td>\n",
       "    </tr>\n",
       "    <tr>\n",
       "      <th>[100, 1000)</th>\n",
       "      <td>16761.0</td>\n",
       "      <td>369.924863</td>\n",
       "      <td>242.519685</td>\n",
       "      <td>100.00</td>\n",
       "      <td>158.1500</td>\n",
       "      <td>289.000</td>\n",
       "      <td>537.9900</td>\n",
       "      <td>999.99</td>\n",
       "    </tr>\n",
       "    <tr>\n",
       "      <th>[1000, 1200)</th>\n",
       "      <td>796.0</td>\n",
       "      <td>1098.275573</td>\n",
       "      <td>59.316398</td>\n",
       "      <td>1000.06</td>\n",
       "      <td>1049.0000</td>\n",
       "      <td>1097.300</td>\n",
       "      <td>1149.6200</td>\n",
       "      <td>1199.99</td>\n",
       "    </tr>\n",
       "    <tr>\n",
       "      <th>[1200, 1500)</th>\n",
       "      <td>755.0</td>\n",
       "      <td>1341.604563</td>\n",
       "      <td>88.727190</td>\n",
       "      <td>1200.00</td>\n",
       "      <td>1266.9850</td>\n",
       "      <td>1338.940</td>\n",
       "      <td>1415.9600</td>\n",
       "      <td>1499.99</td>\n",
       "    </tr>\n",
       "    <tr>\n",
       "      <th>[1500, 2000)</th>\n",
       "      <td>584.0</td>\n",
       "      <td>1713.847178</td>\n",
       "      <td>142.700321</td>\n",
       "      <td>1500.01</td>\n",
       "      <td>1594.7950</td>\n",
       "      <td>1691.110</td>\n",
       "      <td>1827.6725</td>\n",
       "      <td>1999.95</td>\n",
       "    </tr>\n",
       "    <tr>\n",
       "      <th>[2000, 2500)</th>\n",
       "      <td>272.0</td>\n",
       "      <td>2226.727537</td>\n",
       "      <td>148.325078</td>\n",
       "      <td>2000.04</td>\n",
       "      <td>2084.5000</td>\n",
       "      <td>2222.985</td>\n",
       "      <td>2345.9625</td>\n",
       "      <td>2499.99</td>\n",
       "    </tr>\n",
       "    <tr>\n",
       "      <th>[2500, 5000)</th>\n",
       "      <td>260.0</td>\n",
       "      <td>3209.543423</td>\n",
       "      <td>605.455070</td>\n",
       "      <td>2501.84</td>\n",
       "      <td>2709.4625</td>\n",
       "      <td>3064.115</td>\n",
       "      <td>3543.0775</td>\n",
       "      <td>4970.42</td>\n",
       "    </tr>\n",
       "    <tr>\n",
       "      <th>[5000, 10000)</th>\n",
       "      <td>39.0</td>\n",
       "      <td>6485.890769</td>\n",
       "      <td>1196.145429</td>\n",
       "      <td>5031.49</td>\n",
       "      <td>5545.2000</td>\n",
       "      <td>6301.930</td>\n",
       "      <td>7086.7800</td>\n",
       "      <td>9983.28</td>\n",
       "    </tr>\n",
       "    <tr>\n",
       "      <th>[10000, 20000)</th>\n",
       "      <td>8.0</td>\n",
       "      <td>12667.082500</td>\n",
       "      <td>2159.356141</td>\n",
       "      <td>10689.11</td>\n",
       "      <td>11256.6300</td>\n",
       "      <td>11557.600</td>\n",
       "      <td>13775.4575</td>\n",
       "      <td>16500.00</td>\n",
       "    </tr>\n",
       "    <tr>\n",
       "      <th>[20000, 30000)</th>\n",
       "      <td>5.0</td>\n",
       "      <td>23272.766000</td>\n",
       "      <td>3425.434350</td>\n",
       "      <td>20588.97</td>\n",
       "      <td>21068.1700</td>\n",
       "      <td>22214.920</td>\n",
       "      <td>23410.9700</td>\n",
       "      <td>29080.80</td>\n",
       "    </tr>\n",
       "  </tbody>\n",
       "</table>\n",
       "</div>"
      ],
      "text/plain": [
       "                  count          mean          std       min         25%  \\\n",
       "revenue_level                                                              \n",
       "[0, 100)         9970.0     56.737771    24.530894      0.02     35.9900   \n",
       "[100, 1000)     16761.0    369.924863   242.519685    100.00    158.1500   \n",
       "[1000, 1200)      796.0   1098.275573    59.316398   1000.06   1049.0000   \n",
       "[1200, 1500)      755.0   1341.604563    88.727190   1200.00   1266.9850   \n",
       "[1500, 2000)      584.0   1713.847178   142.700321   1500.01   1594.7950   \n",
       "[2000, 2500)      272.0   2226.727537   148.325078   2000.04   2084.5000   \n",
       "[2500, 5000)      260.0   3209.543423   605.455070   2501.84   2709.4625   \n",
       "[5000, 10000)      39.0   6485.890769  1196.145429   5031.49   5545.2000   \n",
       "[10000, 20000)      8.0  12667.082500  2159.356141  10689.11  11256.6300   \n",
       "[20000, 30000)      5.0  23272.766000  3425.434350  20588.97  21068.1700   \n",
       "\n",
       "                      50%         75%       max  \n",
       "revenue_level                                    \n",
       "[0, 100)           57.980     74.9900     99.99  \n",
       "[100, 1000)       289.000    537.9900    999.99  \n",
       "[1000, 1200)     1097.300   1149.6200   1199.99  \n",
       "[1200, 1500)     1338.940   1415.9600   1499.99  \n",
       "[1500, 2000)     1691.110   1827.6725   1999.95  \n",
       "[2000, 2500)     2222.985   2345.9625   2499.99  \n",
       "[2500, 5000)     3064.115   3543.0775   4970.42  \n",
       "[5000, 10000)    6301.930   7086.7800   9983.28  \n",
       "[10000, 20000)  11557.600  13775.4575  16500.00  \n",
       "[20000, 30000)  22214.920  23410.9700  29080.80  "
      ]
     },
     "execution_count": 19,
     "metadata": {},
     "output_type": "execute_result"
    }
   ],
   "source": [
    "bins=[0,100,1000,1200,1500,2000,2500,5000,10000,20000,30000]\n",
    "red1['revenue_level']=pd.cut(red1.revenue,bins,right=False)\n",
    "red1.groupby('revenue_level').revenue.describe()"
   ]
  },
  {
   "cell_type": "code",
   "execution_count": 20,
   "metadata": {},
   "outputs": [
    {
     "data": {
      "text/html": [
       "<div>\n",
       "<style scoped>\n",
       "    .dataframe tbody tr th:only-of-type {\n",
       "        vertical-align: middle;\n",
       "    }\n",
       "\n",
       "    .dataframe tbody tr th {\n",
       "        vertical-align: top;\n",
       "    }\n",
       "\n",
       "    .dataframe thead th {\n",
       "        text-align: right;\n",
       "    }\n",
       "</style>\n",
       "<table border=\"1\" class=\"dataframe\">\n",
       "  <thead>\n",
       "    <tr style=\"text-align: right;\">\n",
       "      <th></th>\n",
       "      <th>revenue</th>\n",
       "    </tr>\n",
       "  </thead>\n",
       "  <tbody>\n",
       "    <tr>\n",
       "      <th>revenue</th>\n",
       "      <td>1.000000</td>\n",
       "    </tr>\n",
       "    <tr>\n",
       "      <th>previous_order_amount</th>\n",
       "      <td>0.168540</td>\n",
       "    </tr>\n",
       "    <tr>\n",
       "      <th>engaged_last_30_1.0</th>\n",
       "      <td>0.038287</td>\n",
       "    </tr>\n",
       "    <tr>\n",
       "      <th>days_since_last_order</th>\n",
       "      <td>0.036654</td>\n",
       "    </tr>\n",
       "    <tr>\n",
       "      <th>gender_Unknown</th>\n",
       "      <td>0.017722</td>\n",
       "    </tr>\n",
       "    <tr>\n",
       "      <th>engaged_last_30_unknown</th>\n",
       "      <td>0.017722</td>\n",
       "    </tr>\n",
       "    <tr>\n",
       "      <th>lifecycle_A</th>\n",
       "      <td>0.013683</td>\n",
       "    </tr>\n",
       "    <tr>\n",
       "      <th>lifecycle_C</th>\n",
       "      <td>-0.002221</td>\n",
       "    </tr>\n",
       "    <tr>\n",
       "      <th>lifecycle_B</th>\n",
       "      <td>-0.008651</td>\n",
       "    </tr>\n",
       "    <tr>\n",
       "      <th>gender_1.0</th>\n",
       "      <td>-0.012422</td>\n",
       "    </tr>\n",
       "    <tr>\n",
       "      <th>gender_0.0</th>\n",
       "      <td>-0.014914</td>\n",
       "    </tr>\n",
       "    <tr>\n",
       "      <th>3rd_party_stores</th>\n",
       "      <td>-0.026398</td>\n",
       "    </tr>\n",
       "    <tr>\n",
       "      <th>engaged_last_30_0.0</th>\n",
       "      <td>-0.033274</td>\n",
       "    </tr>\n",
       "    <tr>\n",
       "      <th>age</th>\n",
       "      <td>-0.036281</td>\n",
       "    </tr>\n",
       "  </tbody>\n",
       "</table>\n",
       "</div>"
      ],
      "text/plain": [
       "                          revenue\n",
       "revenue                  1.000000\n",
       "previous_order_amount    0.168540\n",
       "engaged_last_30_1.0      0.038287\n",
       " days_since_last_order   0.036654\n",
       "gender_Unknown           0.017722\n",
       "engaged_last_30_unknown  0.017722\n",
       "lifecycle_A              0.013683\n",
       "lifecycle_C             -0.002221\n",
       "lifecycle_B             -0.008651\n",
       "gender_1.0              -0.012422\n",
       "gender_0.0              -0.014914\n",
       "3rd_party_stores        -0.026398\n",
       "engaged_last_30_0.0     -0.033274\n",
       "age                     -0.036281"
      ]
     },
     "execution_count": 20,
     "metadata": {},
     "output_type": "execute_result"
    }
   ],
   "source": [
    "# 模型构建\n",
    "red1.corr()[['revenue']].sort_values('revenue',ascending=False)\n"
   ]
  },
  {
   "cell_type": "code",
   "execution_count": 21,
   "metadata": {},
   "outputs": [
    {
     "data": {
      "text/plain": [
       "<AxesSubplot:>"
      ]
     },
     "execution_count": 21,
     "metadata": {},
     "output_type": "execute_result"
    },
    {
     "data": {
      "image/png": "[encoded data removed]",
      "text/plain": [
       "<Figure size 432x288 with 2 Axes>"
      ]
     },
     "metadata": {
      "needs_background": "light"
     },
     "output_type": "display_data"
    }
   ],
   "source": [
    "#热力图\n",
    "q=['revenue','previous_order_amount','engaged_last_30_1.0']\n",
    "sns.heatmap(red1[q].corr())"
   ]
  },
  {
   "cell_type": "code",
   "execution_count": 22,
   "metadata": {},
   "outputs": [
    {
     "data": {
      "text/plain": [
       "array([0.06800681])"
      ]
     },
     "execution_count": 22,
     "metadata": {},
     "output_type": "execute_result"
    }
   ],
   "source": [
    "# 一元线性回归，只选择累计销售额作为自变量\n",
    "# 因变量为销售额\n",
    "model=LinearRegression()\n",
    "y = red1['revenue']\n",
    "x = red1[['previous_order_amount']]\n",
    "model.fit(x,y) #模型拟合\n",
    "# 查看拟合系数估计值\n",
    "model.coef_\n"
   ]
  },
  {
   "cell_type": "code",
   "execution_count": 23,
   "metadata": {},
   "outputs": [
    {
     "data": {
      "text/plain": [
       "0.02840574376132865"
      ]
     },
     "execution_count": 23,
     "metadata": {},
     "output_type": "execute_result"
    }
   ],
   "source": [
    "# 查看截距项，获取标准线性回归结果\n",
    "# 模型评分\n",
    "score = model.score(x,y) \n",
    "score"
   ]
  },
  {
   "cell_type": "code",
   "execution_count": 24,
   "metadata": {},
   "outputs": [
    {
     "data": {
      "text/plain": [
       "array([397.94563463, 819.31598642, 353.31793152, ..., 325.56326286,\n",
       "       284.08250703, 381.56143314])"
      ]
     },
     "execution_count": 24,
     "metadata": {},
     "output_type": "execute_result"
    }
   ],
   "source": [
    "# 计算y的预测值\n",
    "dictons = model.predict(x)\n",
    "dictons"
   ]
  },
  {
   "cell_type": "code",
   "execution_count": 25,
   "metadata": {},
   "outputs": [],
   "source": [
    "error = dictons - y\n"
   ]
  },
  {
   "cell_type": "code",
   "execution_count": 26,
   "metadata": {},
   "outputs": [],
   "source": [
    "# 计算均方误差\n",
    "rme = (error**2).mean()**0.5"
   ]
  },
  {
   "cell_type": "code",
   "execution_count": 27,
   "metadata": {},
   "outputs": [],
   "source": [
    "# 计算平均绝对误差\n",
    "mae = abs(error).mean()"
   ]
  },
  {
   "cell_type": "code",
   "execution_count": 28,
   "metadata": {},
   "outputs": [
    {
     "name": "stdout",
     "output_type": "stream",
     "text": [
      "946.4990744073566\n",
      "356.9227080769107\n"
     ]
    }
   ],
   "source": [
    "print(rme)\n",
    "print(mae)\n",
    " "
   ]
  },
  {
   "cell_type": "code",
   "execution_count": 29,
   "metadata": {},
   "outputs": [
    {
     "name": "stdout",
     "output_type": "stream",
     "text": [
      "                            OLS Regression Results                            \n",
      "==============================================================================\n",
      "Dep. Variable:                      y   R-squared:                       0.028\n",
      "Model:                            OLS   Adj. R-squared:                  0.028\n",
      "Method:                 Least Squares   F-statistic:                     861.0\n",
      "Date:                Sun, 21 Mar 2021   Prob (F-statistic):          1.43e-186\n",
      "Time:                        13:52:54   Log-Likelihood:            -2.4362e+05\n",
      "No. Observations:               29452   AIC:                         4.872e+05\n",
      "Df Residuals:                   29450   BIC:                         4.873e+05\n",
      "Df Model:                           1                                         \n",
      "Covariance Type:            nonrobust                                         \n",
      "==============================================================================\n",
      "                 coef    std err          t      P>|t|      [0.025      0.975]\n",
      "------------------------------------------------------------------------------\n",
      "Intercept    238.5465      7.750     30.782      0.000     223.357     253.736\n",
      "x              0.0680      0.002     29.343      0.000       0.063       0.073\n",
      "==============================================================================\n",
      "Omnibus:                    96517.376   Durbin-Watson:                   1.968\n",
      "Prob(Omnibus):                  0.000   Jarque-Bera (JB):      34688559459.998\n",
      "Skew:                          55.810   Prob(JB):                         0.00\n",
      "Kurtosis:                    5318.518   Cond. No.                     4.70e+03\n",
      "==============================================================================\n",
      "\n",
      "Notes:\n",
      "[1] Standard Errors assume that the covariance matrix of the errors is correctly specified.\n",
      "[2] The condition number is large, 4.7e+03. This might indicate that there are\n",
      "strong multicollinearity or other numerical problems.\n"
     ]
    }
   ],
   "source": [
    "# 标准的模型输出表\n",
    "from statsmodels.formula.api import ols\n",
    "model_ols=ols('y~x',red1).fit()\n",
    "#观察coef-系数，P值显著性\n",
    "print(model_ols.summary())"
   ]
  },
  {
   "cell_type": "code",
   "execution_count": null,
   "metadata": {},
   "outputs": [],
   "source": [
    "# 结果：revenue=237.1796+0.0684*previous_order_amount，即用户以往累计的购买金额每增加1000元，它本次的的销售额就会增加68元；但R方非常低，需要寻找更好的模型。"
   ]
  },
  {
   "cell_type": "code",
   "execution_count": 31,
   "metadata": {},
   "outputs": [
    {
     "name": "stderr",
     "output_type": "stream",
     "text": [
      "C:\\Users\\GaoYi\\anaconda\\envs\\xiaohongshu\\lib\\site-packages\\seaborn\\distributions.py:2557: FutureWarning: `distplot` is a deprecated function and will be removed in a future version. Please adapt your code to use either `displot` (a figure-level function with similar flexibility) or `histplot` (an axes-level function for histograms).\n",
      "  warnings.warn(msg, FutureWarning)\n"
     ]
    },
    {
     "data": {
      "text/plain": [
       "<AxesSubplot:xlabel='revenue', ylabel='Density'>"
      ]
     },
     "execution_count": 31,
     "metadata": {},
     "output_type": "execute_result"
    },
    {
     "data": {
      "image/png": "[encoded data removed]",
      "text/plain": [
       "<Figure size 432x288 with 1 Axes>"
      ]
     },
     "metadata": {
      "needs_background": "light"
     },
     "output_type": "display_data"
    }
   ],
   "source": [
    "# 模型优化\n",
    "# 模型优化的方向有：模型中增加变量，缺失值的填充调整，离群值的处理，数据分组等；\n",
    "\n",
    "# 这里仅对revenue的离群值进行优化处理，使用直方图查看revenue的分布情况：\n",
    "\n",
    "sns.distplot(red1['revenue'])"
   ]
  },
  {
   "cell_type": "code",
   "execution_count": 33,
   "metadata": {},
   "outputs": [
    {
     "name": "stderr",
     "output_type": "stream",
     "text": [
      "C:\\Users\\GaoYi\\anaconda\\envs\\xiaohongshu\\lib\\site-packages\\seaborn\\distributions.py:2557: FutureWarning: `distplot` is a deprecated function and will be removed in a future version. Please adapt your code to use either `displot` (a figure-level function with similar flexibility) or `histplot` (an axes-level function for histograms).\n",
      "  warnings.warn(msg, FutureWarning)\n"
     ]
    },
    {
     "data": {
      "text/plain": [
       "<AxesSubplot:xlabel='revenue', ylabel='Density'>"
      ]
     },
     "execution_count": 33,
     "metadata": {},
     "output_type": "execute_result"
    },
    {
     "data": {
      "image/png": "[encoded data removed]",
      "text/plain": [
       "<Figure size 432x288 with 1 Axes>"
      ]
     },
     "metadata": {
      "needs_background": "light"
     },
     "output_type": "display_data"
    }
   ],
   "source": [
    "# 这里打算取revenue<=2000的值，先查看这部分数据在整体数据中的占比，发现超过98%，对整个数据集的影响较小；\n",
    "red2 = red1[red1['revenue']<=2000]\n",
    "sns.distplot(red2['revenue'])"
   ]
  },
  {
   "cell_type": "code",
   "execution_count": 35,
   "metadata": {},
   "outputs": [
    {
     "data": {
      "text/plain": [
       "0.029587877533860496"
      ]
     },
     "execution_count": 35,
     "metadata": {},
     "output_type": "execute_result"
    }
   ],
   "source": [
    "model=LinearRegression()\n",
    "y = red2['revenue']\n",
    "x = red2[['previous_order_amount']]\n",
    "model.fit(x,y) #模型拟合\n",
    "# 查看拟合系数估计值\n",
    "# 模型评分\n",
    "score = model.score(x,y) \n",
    "score"
   ]
  },
  {
   "cell_type": "code",
   "execution_count": 37,
   "metadata": {},
   "outputs": [],
   "source": [
    "# 计算y的预测值\n",
    "dictons = model.predict(x)\n",
    "dictons\n",
    "error = dictons - y\n",
    "# 计算均方误差\n",
    "rme = (error**2).mean()**0.5\n",
    "# 计算平均绝对误差\n",
    "mae = abs(error).mean()"
   ]
  },
  {
   "cell_type": "code",
   "execution_count": 38,
   "metadata": {},
   "outputs": [
    {
     "name": "stdout",
     "output_type": "stream",
     "text": [
      "373.23779005815084\n",
      "280.4609444310085\n"
     ]
    }
   ],
   "source": [
    "print(rme)\n",
    "print(mae)\n",
    "# 结果显示，评分的变化不大，但均方根误差有明显下降，从之前的946下降到现在的372。\n",
    " "
   ]
  },
  {
   "cell_type": "markdown",
   "metadata": {},
   "source": [
    "三、营销建议\n",
    "分析发现，最近30天有在APP上参与重要活动的用户、注册后6个月之内的新用户、以往累计购买金额较多的用户，他们的平均消费额更高；对此提出以下营销建议：\n",
    "\n",
    "1、针对新用户，可以举办拉新活动，增加新用户的数量来提升销售额的增长；\n",
    "\n",
    "2、针对老用户，进行重要活动的消息推送，来吸引老用户多参与活动以提升销售额；\n",
    "\n",
    "3、做好老用户的留存和促活，比如对于超过1个月没有消费的用户，可以发放消费券，刺激老用户回到平台进行消费；\n",
    "\n",
    "4、数据显示男性用户的购买力也不可小觑，因此针对男性用户可以推送他们感兴趣的内容。"
   ]
  },
  {
   "cell_type": "code",
   "execution_count": null,
   "metadata": {},
   "outputs": [],
   "source": [
    "舆情分析 风控管理 金融证券预测 风险评估 。。。"
   ]
  }
 ],
 "metadata": {
  "kernelspec": {
   "display_name": "Python 3",
   "language": "python",
   "name": "python3"
  },
  "language_info": {
   "codemirror_mode": {
    "name": "ipython",
    "version": 3
   },
   "file_extension": ".py",
   "mimetype": "text/x-python",
   "name": "python",
   "nbconvert_exporter": "python",
   "pygments_lexer": "ipython3",
   "version": "3.8.8"
  }
 },
 "nbformat": 4,
 "nbformat_minor": 4
}
